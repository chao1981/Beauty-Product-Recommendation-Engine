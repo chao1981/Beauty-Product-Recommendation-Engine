{
 "cells": [
  {
   "cell_type": "code",
   "execution_count": 89,
   "metadata": {
    "collapsed": false
   },
   "outputs": [],
   "source": [
    "\n",
    "import pymongo\n",
    "from pymongo import MongoClient\n",
    "import matplotlib.pyplot as plt\n",
    "%matplotlib inline\n",
    "import numpy as np\n",
    "import seaborn as sns\n",
    "from bson.son import SON\n",
    "from bson.code import Code\n",
    "import json\n",
    "import pandas as pd\n",
    "import nltk\n",
    "import re\n",
    "import os\n",
    "import codecs\n",
    "from sklearn import feature_extraction\n",
    "import mpld3\n"
   ]
  },
  {
   "cell_type": "code",
   "execution_count": 3,
   "metadata": {
    "collapsed": false
   },
   "outputs": [],
   "source": [
    "client = MongoClient()\n",
    "#creating mbf database (mbf = \"meta beauty file\")\n",
    "mbf = client.dsbc.mbf\n",
    "# mbf.remove()\n"
   ]
  },
  {
   "cell_type": "code",
   "execution_count": null,
   "metadata": {
    "collapsed": true
   },
   "outputs": [],
   "source": [
    "with open('meta_Beauty.json') as meta_beauty_file:\n",
    "    for line in meta_beauty_file:\n",
    "        meta_f = json.loads(line)  \n",
    "        #only work when using json.loads() not json.load() \n",
    "        mbf.insert(meta_f)\n",
    "        \n",
    "#can't do json.load(meta_beautfy_file) since meta_beauty_file has the form \"{...}{...}{...}\" --> not json\n",
    "#json.load(line) does not work since line is  string"
   ]
  },
  {
   "cell_type": "code",
   "execution_count": 4,
   "metadata": {
    "collapsed": false
   },
   "outputs": [
    {
     "data": {
      "text/plain": [
       "<pymongo.command_cursor.CommandCursor at 0x1123ce4d0>"
      ]
     },
     "execution_count": 4,
     "metadata": {},
     "output_type": "execute_result"
    }
   ],
   "source": [
    "# \"categories\": [[\"Beauty\", \"Skin Care\",...]] --> need to $unwind\n",
    "# use \"categories.0\" get the innner list.\n",
    "\n",
    "#Skin_care = mbf.find({\"categories.0\": [\"Beauty\"]})\n",
    "\n",
    "pipeline  = [{\"$unwind\":\"$categories\"},\n",
    "             {\"$match\":{\"categories\":{\"$all\":[\"Face\",\"Creams & Moisturizers\"]}}},\n",
    "             {\"$project\":{\"_id\":0,\"asin\":1,\"title\":1,\"price\":1}},\n",
    "             {\"$out\": \"product_info\"}]\n",
    "# \"$out\" write the result into new collection\n",
    "# \"$all\" find all list that contains everything in queries\n",
    "mbf.aggregate(pipeline)"
   ]
  },
  {
   "cell_type": "code",
   "execution_count": 6,
   "metadata": {
    "collapsed": false
   },
   "outputs": [],
   "source": [
    "product_info = client.dsbc.product_info"
   ]
  },
  {
   "cell_type": "code",
   "execution_count": 7,
   "metadata": {
    "collapsed": false
   },
   "outputs": [],
   "source": [
    "# name = product_info.find({}, {\"_id\":0,\"asin\":1})\n",
    "# id_list  = {}\n",
    "# for id_num in name:\n",
    "#     id_list.append(id_num[\"asin\"])"
   ]
  },
  {
   "cell_type": "code",
   "execution_count": 8,
   "metadata": {
    "collapsed": false,
    "scrolled": true
   },
   "outputs": [],
   "source": [
    "name = product_info.find({}, {\"_id\":0,\"asin\":1,\"title\":1,\"price\":1})\n",
    "id_list  = {}\n",
    "for id_num in name:\n",
    "    try:\n",
    "        id_list[id_num[\"asin\"]]=[id_num[\"title\"],id_num[\"price\"]]\n",
    "    except:\n",
    "        pass\n"
   ]
  },
  {
   "cell_type": "code",
   "execution_count": 9,
   "metadata": {
    "collapsed": false
   },
   "outputs": [
    {
     "data": {
      "text/plain": [
       "5570"
      ]
     },
     "execution_count": 9,
     "metadata": {},
     "output_type": "execute_result"
    }
   ],
   "source": [
    "len(id_list.keys())"
   ]
  },
  {
   "cell_type": "code",
   "execution_count": 10,
   "metadata": {
    "collapsed": false
   },
   "outputs": [],
   "source": [
    "#Creating database for reviews beauty file\n",
    "rbf = client.dsbc.rbf\n",
    "with open('reviews_Beauty.json') as reviews_beauty_file:\n",
    "    for line in reviews_beauty_file:\n",
    "        review = json.loads(line)  \n",
    "        rbf.insert(review)\n",
    "        "
   ]
  },
  {
   "cell_type": "code",
   "execution_count": 11,
   "metadata": {
    "collapsed": true
   },
   "outputs": [],
   "source": [
    "#new database for selective items\n",
    "ndb = client.dsbc.ndb"
   ]
  },
  {
   "cell_type": "code",
   "execution_count": 22,
   "metadata": {
    "collapsed": true
   },
   "outputs": [],
   "source": [
    "match_list = rbf.find({\"asin\":{\"$in\": [id_list.keys()[3]]}})"
   ]
  },
  {
   "cell_type": "code",
   "execution_count": 24,
   "metadata": {
    "collapsed": false
   },
   "outputs": [
    {
     "data": {
      "text/plain": [
       "[u'Olay Professional Pro-X Hydra Firming Cream Anti Aging 1.7 Oz', 15.38]"
      ]
     },
     "execution_count": 24,
     "metadata": {},
     "output_type": "execute_result"
    }
   ],
   "source": [
    "id_list[\"B001JQLNMI\"]"
   ]
  },
  {
   "cell_type": "code",
   "execution_count": 25,
   "metadata": {
    "collapsed": false
   },
   "outputs": [],
   "source": [
    "product_reviews = {}\n",
    "product_reviews[\"B001JQLNMI\"]=[i for i in match_list]\n"
   ]
  },
  {
   "cell_type": "code",
   "execution_count": 39,
   "metadata": {
    "collapsed": false
   },
   "outputs": [],
   "source": [
    "simple_review = product_reviews[\"B001JQLNMI\"][0]['reviewText']"
   ]
  },
  {
   "cell_type": "code",
   "execution_count": 94,
   "metadata": {
    "collapsed": false
   },
   "outputs": [
    {
     "name": "stdout",
     "output_type": "stream",
     "text": [
      "*** Introductory Examples for the NLTK Book ***\n",
      "Loading text1, ..., text9 and sent1, ..., sent9\n",
      "Type the name of the text or sentence to view it.\n",
      "Type: 'texts()' or 'sents()' to list the materials.\n",
      "text1: Moby Dick by Herman Melville 1851\n",
      "text2: Sense and Sensibility by Jane Austen 1811\n",
      "text3: The Book of Genesis\n",
      "text4: Inaugural Address Corpus\n",
      "text5: Chat Corpus\n",
      "text6: Monty Python and the Holy Grail\n",
      "text7: Wall Street Journal\n",
      "text8: Personals Corpus\n",
      "text9: The Man Who Was Thursday by G . K . Chesterton 1908\n"
     ]
    }
   ],
   "source": [
    "from nltk.book import *"
   ]
  },
  {
   "cell_type": "code",
   "execution_count": 114,
   "metadata": {
    "collapsed": false
   },
   "outputs": [],
   "source": [
    "saying = ['after','all','is','said','and','done',\n",
    "          'more','is','said','than','done']"
   ]
  },
  {
   "cell_type": "code",
   "execution_count": 131,
   "metadata": {
    "collapsed": false
   },
   "outputs": [
    {
     "data": {
      "text/plain": [
       "False"
      ]
     },
     "execution_count": 131,
     "metadata": {},
     "output_type": "execute_result"
    }
   ],
   "source": [
    "saying = \"After all is said and done, more is said than done\"\n",
    "saying.endswith(\"n\")"
   ]
  },
  {
   "cell_type": "code",
   "execution_count": 116,
   "metadata": {
    "collapsed": false
   },
   "outputs": [
    {
     "data": {
      "text/plain": [
       "(['after', 'all', 'and', 'done', 'is', 'more', 'said', 'than'],\n",
       " ['said', 'than'])"
      ]
     },
     "execution_count": 116,
     "metadata": {},
     "output_type": "execute_result"
    }
   ],
   "source": []
  },
  {
   "cell_type": "code",
   "execution_count": null,
   "metadata": {
    "collapsed": true
   },
   "outputs": [],
   "source": []
  },
  {
   "cell_type": "code",
   "execution_count": null,
   "metadata": {
    "collapsed": true
   },
   "outputs": [],
   "source": []
  },
  {
   "cell_type": "code",
   "execution_count": null,
   "metadata": {
    "collapsed": true
   },
   "outputs": [],
   "source": []
  },
  {
   "cell_type": "code",
   "execution_count": null,
   "metadata": {
    "collapsed": true
   },
   "outputs": [],
   "source": []
  },
  {
   "cell_type": "code",
   "execution_count": null,
   "metadata": {
    "collapsed": true
   },
   "outputs": [],
   "source": []
  },
  {
   "cell_type": "markdown",
   "metadata": {},
   "source": [
    "# RATING ALGORITHM"
   ]
  },
  {
   "cell_type": "code",
   "execution_count": 65,
   "metadata": {
    "collapsed": false
   },
   "outputs": [],
   "source": [
    "def amazon_rating(x1,x2,x3,x4,x5):\n",
    "    return (x1+2*x2+3*x3+4*x4+5*x5)/float(x1+x2+x3+x4+x5)"
   ]
  },
  {
   "cell_type": "code",
   "execution_count": 66,
   "metadata": {
    "collapsed": false
   },
   "outputs": [
    {
     "name": "stdout",
     "output_type": "stream",
     "text": [
      "50 shades rating 3.47656102918\n",
      "twightlight rating 4.12725696952\n",
      "the hobbit rating 4.69792682927\n",
      "daughter of the forest 4.47708333333\n",
      "best seller of 2014 4.41966048164\n",
      "divergent 4.52524465651\n",
      "eragon 3.95181718062\n",
      "to kill a mocking bird 4.67559626685\n"
     ]
    }
   ],
   "source": [
    "print \"50 shades rating\", amazon_rating(7708,2732,2970,3584,14876)\n",
    "print \"twightlight rating\", amazon_rating(802,349,503,781,4488)\n",
    "print \"the hobbit rating\", amazon_rating(141,104,265,1071,6619)\n",
    "print \"daughter of the forest\", amazon_rating(20,20,19,73,348)\n",
    "print \"best seller of 2014\", amazon_rating(100,108,166,414,1745)\n",
    "print \"divergent\", amazon_rating(411,519,1316,3918,14375)\n",
    "print \"eragon\", amazon_rating(443,267,331,572,2019)\n",
    "print \"to kill a mocking bird\", amazon_rating(141,96,184,657,4708)"
   ]
  },
  {
   "cell_type": "code",
   "execution_count": 67,
   "metadata": {
    "collapsed": true
   },
   "outputs": [],
   "source": [
    "def smooth_rating(x1,x2,x3,x4,x5,alpha,beta):\n",
    "    return ((x1+2*x2+3*x3+4*x4+5*x5)+alpha*beta)/(float(x1+x2+x3+x4+x5)+beta)"
   ]
  },
  {
   "cell_type": "code",
   "execution_count": 68,
   "metadata": {
    "collapsed": false
   },
   "outputs": [
    {
     "name": "stdout",
     "output_type": "stream",
     "text": [
      "50 shades rating 3.47507037848\n",
      "twightlight rating 4.11120603731\n",
      "the hobbit rating 4.67746987952\n",
      "daughter of the forest 4.2224137931\n",
      "best seller of 2014 4.36574249905\n",
      "divergent 4.51785454722\n",
      "eragon 3.92631296892\n",
      "to kill a mocking bird 4.64712878016\n"
     ]
    }
   ],
   "source": [
    "print \"50 shades rating\", smooth_rating(7708,2732,2970,3584,14876,3,100)\n",
    "print \"twightlight rating\", smooth_rating(802,349,503,781,4488,3,100)\n",
    "print \"the hobbit rating\", smooth_rating(141,104,265,1071,6619,3,100)\n",
    "print \"daughter of the forest\", smooth_rating(20,20,19,73,348,3,100)\n",
    "print \"best seller of 2014\", smooth_rating(100,108,166,414,1745,3,100)\n",
    "print \"divergent\", smooth_rating(411,519,1316,3918,14375,3,100)\n",
    "print \"eragon\", smooth_rating(443,267,331,572,2019,3,100)\n",
    "print \"to kill a mocking bird\", smooth_rating(141,96,184,657,4708,3,100)"
   ]
  },
  {
   "cell_type": "code",
   "execution_count": 69,
   "metadata": {
    "collapsed": true
   },
   "outputs": [],
   "source": [
    "def weight_extreme_rating(x1,x2,x3,x4,x5,alpha,beta):\n",
    "    numer = (2*x1+2*x2+3*x3+4*x4+10*x5)+alpha*beta\n",
    "    denom = float(2*x1+x2+x3+x4+2*x5+beta)\n",
    "    return numer/denom"
   ]
  },
  {
   "cell_type": "code",
   "execution_count": 70,
   "metadata": {
    "collapsed": false
   },
   "outputs": [
    {
     "name": "stdout",
     "output_type": "stream",
     "text": [
      "50 shades rating 3.54118854713\n",
      "twightlight rating 4.23251847641\n",
      "the hobbit rating 4.78479415671\n",
      "daughter of the forest 4.43987341772\n",
      "best seller of 2014 4.53774006253\n",
      "divergent 4.67268877911\n",
      "eragon 4.06700032289\n",
      "to kill a mocking bird 4.75398230088\n"
     ]
    }
   ],
   "source": [
    "print \"50 shades rating\", weight_extreme_rating(7708,2732,2970,3584,14876,3,100)\n",
    "print \"twightlight rating\", weight_extreme_rating(802,349,503,781,4488,3,100)\n",
    "print \"the hobbit rating\", weight_extreme_rating(141,104,265,1071,6619,3,100)\n",
    "print \"daughter of the forest\", weight_extreme_rating(20,20,19,73,348,3,100)\n",
    "print \"best seller of 2014\", weight_extreme_rating(100,108,166,414,1745,3,100)\n",
    "print \"divergent\", weight_extreme_rating(411,519,1316,3918,14375,3,100)\n",
    "print \"eragon\", weight_extreme_rating(443,267,331,572,2019,3,100)\n",
    "print \"to kill a mocking bird\", weight_extreme_rating(141,96,184,657,4708,3,100)"
   ]
  },
  {
   "cell_type": "code",
   "execution_count": 72,
   "metadata": {
    "collapsed": true
   },
   "outputs": [],
   "source": [
    "def strict_rating(x1,x2,x3,x4,x5,alpha,beta):\n",
    "    numer = (2*x1+4*x2+3*x3+4*x4+5*x5)+alpha*beta\n",
    "    denom = float(2*x1+x2+x3+x4+x5+beta)\n",
    "    return numer/denom"
   ]
  },
  {
   "cell_type": "code",
   "execution_count": 79,
   "metadata": {
    "collapsed": false
   },
   "outputs": [
    {
     "name": "stdout",
     "output_type": "stream",
     "text": [
      "50 shades rating 2.7851686152\n",
      "twightlight rating 3.61365480468\n",
      "the hobbit rating 4.58086693079\n",
      "daughter of the forest 4.07903225806\n",
      "best seller of 2014 4.20437698553\n",
      "divergent 4.43148035972\n",
      "eragon 3.48051104374\n",
      "to kill a mocking bird 4.51151102464\n"
     ]
    }
   ],
   "source": [
    "print \"50 shades rating\", strict_rating(7708,2732,2970,3584,14876,3,100)\n",
    "print \"twightlight rating\", strict_rating(802,349,503,781,4488,3,100)\n",
    "print \"the hobbit rating\", strict_rating(141,104,265,1071,6619,3,100)\n",
    "print \"daughter of the forest\", strict_rating(20,20,19,73,348,3,100)\n",
    "print \"best seller of 2014\", strict_rating(100,108,166,414,1745,3,100)\n",
    "print \"divergent\", strict_rating(411,519,1316,3918,14375,3,100)\n",
    "print \"eragon\", strict_rating(443,267,331,572,2019,3,100)\n",
    "print \"to kill a mocking bird\", strict_rating(141,96,184,657,4708,3,100)"
   ]
  },
  {
   "cell_type": "code",
   "execution_count": 88,
   "metadata": {
    "collapsed": false
   },
   "outputs": [
    {
     "name": "stdout",
     "output_type": "stream",
     "text": [
      "4.06906906907\n",
      "3.77725118483\n",
      "4.19783197832\n",
      "3.52302631579\n",
      "3.42258748674\n"
     ]
    }
   ],
   "source": [
    "print strict_rating(1,0,3,32,193,2.5,100)\n",
    "print strict_rating(0,0,1,6,104,2.5,100)\n",
    "print strict_rating(0,1,7,31,230,2.5,100)\n",
    "print strict_rating(253,184,297,590,2428,2.5,100)\n",
    "print strict_rating(101,64,117,205,895,2.5,100)"
   ]
  },
  {
   "cell_type": "code",
   "execution_count": 87,
   "metadata": {
    "collapsed": true
   },
   "outputs": [],
   "source": [
    "def strict_rating(x1,x2,x3,x4,x5,alpha,beta):\n",
    "    numer = (3*x1+4*x2+3*x3+4*x4+5*x5)+alpha*beta\n",
    "    denom = float(5*x1+x2+x3+x4+x5+beta)\n",
    "    return numer/denom"
   ]
  },
  {
   "cell_type": "code",
   "execution_count": 90,
   "metadata": {
    "collapsed": true
   },
   "outputs": [],
   "source": [
    "stopwords = nltk.corpus.stopwords.words('english')"
   ]
  },
  {
   "cell_type": "code",
   "execution_count": 93,
   "metadata": {
    "collapsed": false
   },
   "outputs": [
    {
     "data": {
      "text/plain": [
       "<nltk.stem.snowball.SnowballStemmer at 0x1176bd410>"
      ]
     },
     "execution_count": 93,
     "metadata": {},
     "output_type": "execute_result"
    }
   ],
   "source": [
    "from nltk.stem.snowball import SnowballStemmer\n",
    "stemmer = SnowballStemmer('english')"
   ]
  },
  {
   "cell_type": "code",
   "execution_count": null,
   "metadata": {
    "collapsed": true
   },
   "outputs": [],
   "source": []
  }
 ],
 "metadata": {
  "kernelspec": {
   "display_name": "Python 2",
   "language": "python",
   "name": "python2"
  },
  "language_info": {
   "codemirror_mode": {
    "name": "ipython",
    "version": 2
   },
   "file_extension": ".py",
   "mimetype": "text/x-python",
   "name": "python",
   "nbconvert_exporter": "python",
   "pygments_lexer": "ipython2",
   "version": "2.7.9"
  }
 },
 "nbformat": 4,
 "nbformat_minor": 0
}
