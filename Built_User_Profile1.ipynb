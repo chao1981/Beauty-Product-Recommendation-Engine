{
 "cells": [
  {
   "cell_type": "code",
   "execution_count": 1,
   "metadata": {
    "collapsed": true
   },
   "outputs": [],
   "source": [
    "import pymongo\n",
    "from pymongo import MongoClient\n",
    "import matplotlib.pyplot as plt\n",
    "%matplotlib inline\n",
    "import numpy as np\n",
    "import seaborn as sns\n",
    "from bson.son import SON\n",
    "from bson.code import Code\n",
    "import json\n",
    "import pandas as pd\n",
    "import re\n",
    "import os\n",
    "import codecs\n",
    "from sklearn import feature_extraction\n",
    "import mpld3\n",
    "# These are packages need for natural language processing:\n",
    "import nltk\n",
    "from __future__ import division, unicode_literals \n",
    "from textblob import TextBlob as tb\n",
    "import math\n",
    "from datetime import datetime\n",
    "from dateutil import parser"
   ]
  },
  {
   "cell_type": "code",
   "execution_count": 2,
   "metadata": {
    "collapsed": false
   },
   "outputs": [],
   "source": [
    "import matplotlib.pyplot as plt\n",
    "from wordcloud import WordCloud, STOPWORDS\n",
    "import amazon_data_sort \n",
    "from amazon_data_sort import get_b_product, get_reviews\n",
    "import doc_summarization as ds"
   ]
  },
  {
   "cell_type": "code",
   "execution_count": 3,
   "metadata": {
    "collapsed": false
   },
   "outputs": [
    {
     "name": "stderr",
     "output_type": "stream",
     "text": [
      "/usr/local/lib/python2.7/site-packages/numpy/lib/utils.py:95: DeprecationWarning: `scipy.sparse.sparsetools` is deprecated!\n",
      "scipy.sparse.sparsetools is a private module for scipy.sparse, and should not be used.\n",
      "  warnings.warn(depdoc, DeprecationWarning)\n",
      "/usr/local/lib/python2.7/site-packages/scipy/lib/_util.py:67: DeprecationWarning: Module scipy.linalg.blas.fblas is deprecated, use scipy.linalg.blas instead\n",
      "  DeprecationWarning)\n",
      "/usr/local/lib/python2.7/site-packages/scipy/lib/_util.py:67: DeprecationWarning: Module scipy.linalg.blas.fblas is deprecated, use scipy.linalg.blas instead\n",
      "  DeprecationWarning)\n",
      "/usr/local/lib/python2.7/site-packages/scipy/lib/_util.py:67: DeprecationWarning: Module scipy.linalg.blas.fblas is deprecated, use scipy.linalg.blas instead\n",
      "  DeprecationWarning)\n",
      "/usr/local/lib/python2.7/site-packages/scipy/lib/_util.py:67: DeprecationWarning: Module scipy.linalg.blas.fblas is deprecated, use scipy.linalg.blas instead\n",
      "  DeprecationWarning)\n",
      "/usr/local/lib/python2.7/site-packages/scipy/lib/_util.py:67: DeprecationWarning: Module scipy.linalg.blas.fblas is deprecated, use scipy.linalg.blas instead\n",
      "  DeprecationWarning)\n",
      "/usr/local/lib/python2.7/site-packages/scipy/lib/_util.py:67: DeprecationWarning: Module scipy.linalg.blas.fblas is deprecated, use scipy.linalg.blas instead\n",
      "  DeprecationWarning)\n",
      "/usr/local/lib/python2.7/site-packages/scipy/lib/_util.py:67: DeprecationWarning: Module scipy.linalg.blas.fblas is deprecated, use scipy.linalg.blas instead\n",
      "  DeprecationWarning)\n",
      "/usr/local/lib/python2.7/site-packages/scipy/lib/_util.py:67: DeprecationWarning: Module scipy.linalg.blas.fblas is deprecated, use scipy.linalg.blas instead\n",
      "  DeprecationWarning)\n",
      "/usr/local/lib/python2.7/site-packages/scipy/lib/_util.py:67: DeprecationWarning: Module scipy.linalg.blas.fblas is deprecated, use scipy.linalg.blas instead\n",
      "  DeprecationWarning)\n",
      "/usr/local/lib/python2.7/site-packages/scipy/lib/_util.py:67: DeprecationWarning: Module scipy.linalg.blas.fblas is deprecated, use scipy.linalg.blas instead\n",
      "  DeprecationWarning)\n",
      "/usr/local/lib/python2.7/site-packages/scipy/lib/_util.py:67: DeprecationWarning: Module scipy.linalg.blas.fblas is deprecated, use scipy.linalg.blas instead\n",
      "  DeprecationWarning)\n",
      "/usr/local/lib/python2.7/site-packages/scipy/lib/_util.py:67: DeprecationWarning: Module scipy.linalg.blas.fblas is deprecated, use scipy.linalg.blas instead\n",
      "  DeprecationWarning)\n"
     ]
    }
   ],
   "source": [
    "#For Topic Modelling LDA:\n",
    "import lda\n",
    "import scipy\n",
    "import gensim\n",
    "\n",
    "from gensim import corpora, models, similarities\n",
    "from gensim.models import hdpmodel, ldamodel\n",
    "from itertools import izip"
   ]
  },
  {
   "cell_type": "code",
   "execution_count": 4,
   "metadata": {
    "collapsed": false
   },
   "outputs": [],
   "source": [
    "client = MongoClient()\n",
    "mbf = client.dsbc.mbf\n",
    "product_info = client.dsbc.product_info\n",
    "name = product_info.find({}, {\"_id\":0,\"asin\":1,\"title\":1,\"price\":1})\n",
    "beauty_list  = {}\n",
    "for id_num in name:\n",
    "    try:\n",
    "        beauty_list[id_num[\"asin\"]]=[id_num[\"title\"],id_num[\"price\"]]\n",
    "    except:\n",
    "        pass\n",
    "#Creating database for reviews beauty file\n",
    "rbf = client.dsbc.rbf"
   ]
  },
  {
   "cell_type": "code",
   "execution_count": 5,
   "metadata": {
    "collapsed": false
   },
   "outputs": [],
   "source": [
    "import reviews as r\n",
    "import product_user_profile as pup"
   ]
  },
  {
   "cell_type": "code",
   "execution_count": 6,
   "metadata": {
    "collapsed": false
   },
   "outputs": [
    {
     "name": "stdout",
     "output_type": "stream",
     "text": [
      "As much as any of us hate to admit, how well we age is determined predominately by genetics plus exercise, good nutrition, hydration, sunscreen and regular skin care.\n",
      "\n",
      "\n",
      "I will tell you, using this and staying out of the sun have protected my facial skin so much that, at age 56, I still have no wrinkles unless I smile really hard and you look up close.\n",
      "\n",
      "\n",
      "\"If you use this cream every day and stay out of the sun faithfully and/or use sunscreen, you will have beautiful skin long after your friends have started to get very noticeable lines.Regards,Karen\n",
      "\n",
      "\n",
      "One of the few I've tried that doesn't smell like it contains sunscreen.\n",
      "\n",
      "\n",
      "It's tint-free, which I also like.I use it primarily on my face and lower arms where the sun hits.\n",
      "\n",
      "\n"
     ]
    }
   ],
   "source": [
    "#These codes help find all sentence with the word of interests\n",
    "#It's help full to see the exact condition surrounding the word\n",
    "#to built all the terms for a category\n",
    "from nltk import tokenize\n",
    "for index in xrange(10):\n",
    "    a = r.reviews(beauty_list,index)['Reviews']\n",
    "    for i in a:\n",
    "        sentences  = tokenize.sent_tokenize(i[0])\n",
    "        for sentence in sentences:\n",
    "            if \"sun\" in sentence:\n",
    "                print sentence\n",
    "                print \"\"\n",
    "                print \"\""
   ]
  },
  {
   "cell_type": "code",
   "execution_count": 7,
   "metadata": {
    "collapsed": false
   },
   "outputs": [
    {
     "name": "stdout",
     "output_type": "stream",
     "text": [
      "{u'B00BJEJY9E': [u'SK II Men UV Protect Moisturizer SPF 30 PA +++ New 50g / 1.7oz', 98.11], 'Reviews': [[u'This is the first moisturizer with SPF I have found that I love as a moisturizer. It has a medium texture and leaves no residue on the face. I strongly recommend it.', 5.0]]}\n"
     ]
    },
    {
     "data": {
      "text/plain": [
       "{'acne_score': 0.0,\n",
       " 'anti_aging_score': 0.0,\n",
       " 'combination_skin_score': 0.0,\n",
       " 'dry_skin_score': 0.0,\n",
       " 'oily_skin_score': 0.0,\n",
       " 'redness_score': 0.0,\n",
       " 'sensitive_score': 0.0,\n",
       " 'sunscreen_score': 0.0}"
      ]
     },
     "execution_count": 7,
     "metadata": {},
     "output_type": "execute_result"
    }
   ],
   "source": [
    "print r.reviews(beauty_list,5)\n",
    "pup.product_profiler(r.reviews(beauty_list,5))"
   ]
  },
  {
   "cell_type": "markdown",
   "metadata": {},
   "source": [
    "###Now transfer everything onto MongoDB"
   ]
  },
  {
   "cell_type": "code",
   "execution_count": 20,
   "metadata": {
    "collapsed": true
   },
   "outputs": [],
   "source": [
    "item_profile = client.dsbc.item_profile"
   ]
  },
  {
   "cell_type": "code",
   "execution_count": null,
   "metadata": {
    "collapsed": false
   },
   "outputs": [],
   "source": []
  },
  {
   "cell_type": "code",
   "execution_count": 15,
   "metadata": {
    "collapsed": false
   },
   "outputs": [],
   "source": [
    "def summarize_item(item_list,item_index):\n",
    "    all_item_info = {}\n",
    "    all_item_info = {item_list.keys()[item_index]:item_list.values()[item_index][0], \n",
    "                     \"price\":item_list.values()[item_index][1]}\n",
    "    all_item_score = pup.product_profiler(r.reviews(item_list,item_index))\n",
    "    all_item_info.update(all_item_score)\n",
    "    return all_item_info"
   ]
  },
  {
   "cell_type": "code",
   "execution_count": null,
   "metadata": {
    "collapsed": false
   },
   "outputs": [],
   "source": [
    "for i in xrange(5570):\n",
    "    beauty_item = summarize_item(beauty_list, i)\n",
    "    item_profile.insert_one(beauty_item)"
   ]
  },
  {
   "cell_type": "code",
   "execution_count": 16,
   "metadata": {
    "collapsed": false
   },
   "outputs": [
    {
     "name": "stdout",
     "output_type": "stream",
     "text": [
      "0\n",
      "1\n",
      "2\n",
      "3\n",
      "4\n"
     ]
    }
   ],
   "source": [
    "for i in xrange(5):\n",
    "    print i"
   ]
  },
  {
   "cell_type": "code",
   "execution_count": null,
   "metadata": {
    "collapsed": true
   },
   "outputs": [],
   "source": []
  },
  {
   "cell_type": "code",
   "execution_count": null,
   "metadata": {
    "collapsed": true
   },
   "outputs": [],
   "source": []
  },
  {
   "cell_type": "code",
   "execution_count": null,
   "metadata": {
    "collapsed": true
   },
   "outputs": [],
   "source": []
  },
  {
   "cell_type": "code",
   "execution_count": 9,
   "metadata": {
    "collapsed": true
   },
   "outputs": [],
   "source": [
    "def skin_type_counter(list_of_text):\n",
    "    dry_skin = 0\n",
    "    oily_skin = 0\n",
    "    combination_skin = 0\n",
    "    sensitivity = 0\n",
    "    total_reviews = len(list_of_text)\n",
    "    for review_text in list_of_text:\n",
    "        new_text = review_text[0].lower()\n",
    "        dry_skin += new_text.count(\"dry skin\")\n",
    "        oily_skin += new_text.count(\"oily skin\")\n",
    "        combination_skin += new_text.count(\"combination skin\")\n",
    "        sensitivity += new_text.count(\"sensitive\")*tb(new_text).sentiment.polarity\n",
    "    return [dry_skin, oily_skin, combination_skin, sensitivity/(total_reviews+1)]\n",
    "    "
   ]
  },
  {
   "cell_type": "code",
   "execution_count": 11,
   "metadata": {
    "collapsed": false
   },
   "outputs": [],
   "source": [
    "a = get_reviews(beauty_list,42)['Reviews']\n",
    "# for i in a:\n",
    "#     print i\n",
    "#     print skin_type_counter([i])\n",
    "#     print \"\"\n",
    "#     print \"\""
   ]
  },
  {
   "cell_type": "code",
   "execution_count": 15,
   "metadata": {
    "collapsed": false
   },
   "outputs": [],
   "source": [
    "words = []\n",
    "sentences  = nltk.word_tokenize(a[0][0])"
   ]
  },
  {
   "cell_type": "code",
   "execution_count": 28,
   "metadata": {
    "collapsed": false
   },
   "outputs": [],
   "source": [
    "stopwords = nltk.corpus.stopwords.words(\"english\")\\\n",
    "            + ['usps','shipping','$','#', 'very', 'amazon','every',\n",
    "                '&','order','seller','packaging','manufacture', 'ever',\n",
    "                'package','cute','delivery', '.',',',\"return\", \"might\"\n",
    "                '?','...','day','week', 'weeks']\n"
   ]
  },
  {
   "cell_type": "code",
   "execution_count": 29,
   "metadata": {
    "collapsed": false
   },
   "outputs": [],
   "source": [
    "for sentence in sentences:\n",
    "    tokens = nltk.word_tokenize(sentence)\n",
    "    text = [word for word in tokens if word not in stopwords]\n",
    "    tagged_text = nltk.pos_tag(text)\n",
    "    for word, tag in tagged_text:\n",
    "        words.append({\"word\": word, \"pos\": tag})"
   ]
  },
  {
   "cell_type": "code",
   "execution_count": 32,
   "metadata": {
    "collapsed": false
   },
   "outputs": [],
   "source": [
    "from nltk.stem.wordnet import WordNetLemmatizer"
   ]
  },
  {
   "cell_type": "code",
   "execution_count": 41,
   "metadata": {
    "collapsed": false
   },
   "outputs": [],
   "source": [
    "nouns = []\n",
    "lem = WordNetLemmatizer()\n",
    "noun_only = [noun for noun in words if noun[\"pos\"] in [\"NN\", \"NNS\"]]\n",
    "for noun_word in noun_only:\n",
    "    nouns.append(lem.lemmatize(noun_word[\"word\"]))\n",
    "    "
   ]
  },
  {
   "cell_type": "code",
   "execution_count": 44,
   "metadata": {
    "collapsed": false
   },
   "outputs": [],
   "source": [
    "import logging\n",
    "import gensim\n",
    "from gensim import corpora\n",
    "from gensim.corpora import BleiCorpus"
   ]
  }
 ],
 "metadata": {
  "kernelspec": {
   "display_name": "Python 2",
   "language": "python",
   "name": "python2"
  },
  "language_info": {
   "codemirror_mode": {
    "name": "ipython",
    "version": 2
   },
   "file_extension": ".py",
   "mimetype": "text/x-python",
   "name": "python",
   "nbconvert_exporter": "python",
   "pygments_lexer": "ipython2",
   "version": "2.7.10"
  }
 },
 "nbformat": 4,
 "nbformat_minor": 0
}
