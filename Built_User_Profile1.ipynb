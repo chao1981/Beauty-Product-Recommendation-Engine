{
 "cells": [
  {
   "cell_type": "code",
   "execution_count": 1,
   "metadata": {
    "collapsed": true
   },
   "outputs": [],
   "source": [
    "import pymongo\n",
    "from pymongo import MongoClient\n",
    "import matplotlib.pyplot as plt\n",
    "%matplotlib inline\n",
    "import numpy as np\n",
    "import seaborn as sns\n",
    "from bson.son import SON\n",
    "from bson.code import Code\n",
    "import json\n",
    "import pandas as pd\n",
    "import re\n",
    "import os\n",
    "import codecs\n",
    "from sklearn import feature_extraction\n",
    "import mpld3\n",
    "# These are packages need for natural language processing:\n",
    "import nltk\n",
    "from __future__ import division, unicode_literals \n",
    "from textblob import TextBlob as tb\n",
    "import math\n",
    "from datetime import datetime\n",
    "from dateutil import parser"
   ]
  },
  {
   "cell_type": "code",
   "execution_count": 2,
   "metadata": {
    "collapsed": false
   },
   "outputs": [],
   "source": [
    "import matplotlib.pyplot as plt\n",
    "from wordcloud import WordCloud, STOPWORDS\n",
    "import amazon_data_sort \n",
    "from amazon_data_sort import get_b_product, get_reviews\n",
    "import doc_summarization as ds"
   ]
  },
  {
   "cell_type": "code",
   "execution_count": 3,
   "metadata": {
    "collapsed": false
   },
   "outputs": [
    {
     "name": "stderr",
     "output_type": "stream",
     "text": [
      "/usr/local/lib/python2.7/site-packages/numpy/lib/utils.py:95: DeprecationWarning: `scipy.sparse.sparsetools` is deprecated!\n",
      "scipy.sparse.sparsetools is a private module for scipy.sparse, and should not be used.\n",
      "  warnings.warn(depdoc, DeprecationWarning)\n",
      "/usr/local/lib/python2.7/site-packages/scipy/lib/_util.py:67: DeprecationWarning: Module scipy.linalg.blas.fblas is deprecated, use scipy.linalg.blas instead\n",
      "  DeprecationWarning)\n",
      "/usr/local/lib/python2.7/site-packages/scipy/lib/_util.py:67: DeprecationWarning: Module scipy.linalg.blas.fblas is deprecated, use scipy.linalg.blas instead\n",
      "  DeprecationWarning)\n",
      "/usr/local/lib/python2.7/site-packages/scipy/lib/_util.py:67: DeprecationWarning: Module scipy.linalg.blas.fblas is deprecated, use scipy.linalg.blas instead\n",
      "  DeprecationWarning)\n",
      "/usr/local/lib/python2.7/site-packages/scipy/lib/_util.py:67: DeprecationWarning: Module scipy.linalg.blas.fblas is deprecated, use scipy.linalg.blas instead\n",
      "  DeprecationWarning)\n",
      "/usr/local/lib/python2.7/site-packages/scipy/lib/_util.py:67: DeprecationWarning: Module scipy.linalg.blas.fblas is deprecated, use scipy.linalg.blas instead\n",
      "  DeprecationWarning)\n",
      "/usr/local/lib/python2.7/site-packages/scipy/lib/_util.py:67: DeprecationWarning: Module scipy.linalg.blas.fblas is deprecated, use scipy.linalg.blas instead\n",
      "  DeprecationWarning)\n",
      "/usr/local/lib/python2.7/site-packages/scipy/lib/_util.py:67: DeprecationWarning: Module scipy.linalg.blas.fblas is deprecated, use scipy.linalg.blas instead\n",
      "  DeprecationWarning)\n",
      "/usr/local/lib/python2.7/site-packages/scipy/lib/_util.py:67: DeprecationWarning: Module scipy.linalg.blas.fblas is deprecated, use scipy.linalg.blas instead\n",
      "  DeprecationWarning)\n",
      "/usr/local/lib/python2.7/site-packages/scipy/lib/_util.py:67: DeprecationWarning: Module scipy.linalg.blas.fblas is deprecated, use scipy.linalg.blas instead\n",
      "  DeprecationWarning)\n",
      "/usr/local/lib/python2.7/site-packages/scipy/lib/_util.py:67: DeprecationWarning: Module scipy.linalg.blas.fblas is deprecated, use scipy.linalg.blas instead\n",
      "  DeprecationWarning)\n",
      "/usr/local/lib/python2.7/site-packages/scipy/lib/_util.py:67: DeprecationWarning: Module scipy.linalg.blas.fblas is deprecated, use scipy.linalg.blas instead\n",
      "  DeprecationWarning)\n",
      "/usr/local/lib/python2.7/site-packages/scipy/lib/_util.py:67: DeprecationWarning: Module scipy.linalg.blas.fblas is deprecated, use scipy.linalg.blas instead\n",
      "  DeprecationWarning)\n"
     ]
    }
   ],
   "source": [
    "#For Topic Modelling LDA:\n",
    "import lda\n",
    "import scipy\n",
    "import gensim\n",
    "\n",
    "from gensim import corpora, models, similarities\n",
    "from gensim.models import hdpmodel, ldamodel\n",
    "from itertools import izip"
   ]
  },
  {
   "cell_type": "code",
   "execution_count": 4,
   "metadata": {
    "collapsed": false
   },
   "outputs": [],
   "source": [
    "client = MongoClient()\n",
    "mbf = client.dsbc.mbf\n",
    "product_info = client.dsbc.product_info\n",
    "name = product_info.find({}, {\"_id\":0,\"asin\":1,\"title\":1,\"price\":1})\n",
    "beauty_list  = {}\n",
    "for id_num in name:\n",
    "    try:\n",
    "        beauty_list[id_num[\"asin\"]]=[id_num[\"title\"],id_num[\"price\"]]\n",
    "    except:\n",
    "        pass\n",
    "#Creating database for reviews beauty file\n",
    "rbf = client.dsbc.rbf"
   ]
  },
  {
   "cell_type": "code",
   "execution_count": 29,
   "metadata": {
    "collapsed": false
   },
   "outputs": [],
   "source": [
    "import reviews as r\n",
    "import product_user_profile as pup\n",
    "import doc_summarization as ds\n",
    "import amazon_data_sort as ads"
   ]
  },
  {
   "cell_type": "code",
   "execution_count": 6,
   "metadata": {
    "collapsed": false
   },
   "outputs": [
    {
     "name": "stdout",
     "output_type": "stream",
     "text": [
      "As much as any of us hate to admit, how well we age is determined predominately by genetics plus exercise, good nutrition, hydration, sunscreen and regular skin care.\n",
      "\n",
      "\n",
      "I will tell you, using this and staying out of the sun have protected my facial skin so much that, at age 56, I still have no wrinkles unless I smile really hard and you look up close.\n",
      "\n",
      "\n",
      "\"If you use this cream every day and stay out of the sun faithfully and/or use sunscreen, you will have beautiful skin long after your friends have started to get very noticeable lines.Regards,Karen\n",
      "\n",
      "\n",
      "One of the few I've tried that doesn't smell like it contains sunscreen.\n",
      "\n",
      "\n",
      "It's tint-free, which I also like.I use it primarily on my face and lower arms where the sun hits.\n",
      "\n",
      "\n"
     ]
    }
   ],
   "source": [
    "#These codes help find all sentence with the word of interests\n",
    "#It's help full to see the exact condition surrounding the word\n",
    "#to built all the terms for a category\n",
    "from nltk import tokenize\n",
    "for index in xrange(10):\n",
    "    a = r.reviews(beauty_list,index)['Reviews']\n",
    "    for i in a:\n",
    "        sentences  = tokenize.sent_tokenize(i[0])\n",
    "        for sentence in sentences:\n",
    "            if \"sun\" in sentence:\n",
    "                print sentence\n",
    "                print \"\"\n",
    "                print \"\""
   ]
  },
  {
   "cell_type": "code",
   "execution_count": 51,
   "metadata": {
    "collapsed": false
   },
   "outputs": [
    {
     "data": {
      "text/plain": [
       "{'acne_score': 0.0,\n",
       " 'anti_aging_score': 0.0,\n",
       " 'combination_skin_score': 0.0,\n",
       " 'dry_skin_score': 0.0,\n",
       " 'oily_skin_score': 0.0,\n",
       " 'redness_score': 0.0,\n",
       " 'sensitive_score': 0.0,\n",
       " 'sunscreen_score': 0.0}"
      ]
     },
     "execution_count": 51,
     "metadata": {},
     "output_type": "execute_result"
    }
   ],
   "source": [
    "\n",
    "pup.product_profiler(r.reviews(beauty_list,5))"
   ]
  },
  {
   "cell_type": "markdown",
   "metadata": {},
   "source": [
    "###Now transfer everything onto MongoDB"
   ]
  },
  {
   "cell_type": "code",
   "execution_count": 20,
   "metadata": {
    "collapsed": true
   },
   "outputs": [],
   "source": [
    "item_profile = client.dsbc.item_profile"
   ]
  },
  {
   "cell_type": "code",
   "execution_count": 57,
   "metadata": {
    "collapsed": false
   },
   "outputs": [],
   "source": [
    "def summarize_item(item_list,item_index):\n",
    "    all_item_info = {}\n",
    "    all_item_info = {\"item_id\": item_list.keys()[item_index],\"name\":item_list.values()[item_index][0],\n",
    "                     \"price\":item_list.values()[item_index][1]}\n",
    "    all_item_score = pup.product_profiler(r.reviews(item_list,item_index))\n",
    "    all_item_info.update(all_item_score)\n",
    "    return all_item_info"
   ]
  },
  {
   "cell_type": "code",
   "execution_count": 58,
   "metadata": {
    "collapsed": false
   },
   "outputs": [
    {
     "data": {
      "text/plain": [
       "{'acne_score': 0.0,\n",
       " 'anti_aging_score': 0.0,\n",
       " 'combination_skin_score': 0.0,\n",
       " 'dry_skin_score': 0.0,\n",
       " u'item_id': u'B00C82YMWK',\n",
       " u'name': u'Beauty Renew 60+ Exclusive Day &amp; Night Cream for Mature Skin',\n",
       " 'oily_skin_score': 0.0,\n",
       " u'price': 25.0,\n",
       " 'redness_score': 0.0,\n",
       " 'sensitive_score': 0.0,\n",
       " 'sunscreen_score': 0.0}"
      ]
     },
     "execution_count": 58,
     "metadata": {},
     "output_type": "execute_result"
    }
   ],
   "source": [
    "summarize_item(beauty_list,1)"
   ]
  },
  {
   "cell_type": "code",
   "execution_count": 21,
   "metadata": {
    "collapsed": false
   },
   "outputs": [],
   "source": [
    "# These code is to save all item information \n",
    "# into mongodb called item_profile\n",
    "\n",
    "# for i in xrange(5570):\n",
    "#     beauty_item = summarize_item(beauty_list, i)\n",
    "#     item_profile.insert_one(beauty_item)"
   ]
  },
  {
   "cell_type": "code",
   "execution_count": 59,
   "metadata": {
    "collapsed": true
   },
   "outputs": [],
   "source": [
    "smarter_profile = client.dsbc.smarter_profile\n",
    "for i in xrange(5570):\n",
    "    beauty_item = summarize_item(beauty_list, i)\n",
    "    smarter_profile.insert_one(beauty_item)"
   ]
  },
  {
   "cell_type": "code",
   "execution_count": 72,
   "metadata": {
    "collapsed": false
   },
   "outputs": [],
   "source": [
    "def list_of_3(priority,dry_score,oily_score,combination_score,acne_score,sensitive_score,sunscreen_score,anti_aging_score,redness_score):\n",
    "    #client = MongoClient()\n",
    "    #smarter_profile = client.dsbc.smarter_profile\n",
    "    pipeline = [{\"$project\":{\"name\":1,\"item_id\":1,\"price\":1}},\n",
    "                {\"$match\":{\"dry_skin_score\":{\"$gt\":dry_score},\n",
    "                           \"oily_skin_score\":{\"$gt\":oily_score},\n",
    "                           \"combination_skin_score\":{\"$gt\":combination_score},\n",
    "                           \"sensitive_score\":{\"$gt\":sensitive_score},\n",
    "                           \"acne_score\":{\"$gt\":acne_score},\n",
    "                           \"sunscreen_score\":{\"$gt\":sunscreen_score},\n",
    "                           \"anti_aging_score\":{\"$gt\":anti_aging_score},\n",
    "                           \"redness_score\":{\"$gt\":redness_score}}},\n",
    "#                {\"$sort\":{\"$$priority\":-1}},\n",
    "                {\"$limit\":3}]\n",
    "    #list_of_products = smarter_profile.aggregate(pipeline)\n",
    "    #return list_of_products\n",
    "    return pipeline"
   ]
  },
  {
   "cell_type": "code",
   "execution_count": 75,
   "metadata": {
    "collapsed": false
   },
   "outputs": [
    {
     "ename": "StopIteration",
     "evalue": "",
     "output_type": "error",
     "traceback": [
      "\u001b[0;31m---------------------------------------------------------------------------\u001b[0m",
      "\u001b[0;31mStopIteration\u001b[0m                             Traceback (most recent call last)",
      "\u001b[0;32m<ipython-input-75-670720476d90>\u001b[0m in \u001b[0;36m<module>\u001b[0;34m()\u001b[0m\n\u001b[1;32m      1\u001b[0m \u001b[0mcursor\u001b[0m \u001b[0;34m=\u001b[0m \u001b[0msmarter_profile\u001b[0m\u001b[0;34m.\u001b[0m\u001b[0maggregate\u001b[0m\u001b[0;34m(\u001b[0m\u001b[0mlist_of_3\u001b[0m\u001b[0;34m(\u001b[0m\u001b[0;34m\"dry_skin_score\"\u001b[0m\u001b[0;34m,\u001b[0m\u001b[0;36m0.1\u001b[0m\u001b[0;34m,\u001b[0m\u001b[0;36m0\u001b[0m\u001b[0;34m,\u001b[0m\u001b[0;36m0\u001b[0m\u001b[0;34m,\u001b[0m\u001b[0;36m0\u001b[0m\u001b[0;34m,\u001b[0m\u001b[0;36m0\u001b[0m\u001b[0;34m,\u001b[0m\u001b[0;36m0\u001b[0m\u001b[0;34m,\u001b[0m\u001b[0;36m0\u001b[0m\u001b[0;34m,\u001b[0m\u001b[0;36m0\u001b[0m\u001b[0;34m)\u001b[0m\u001b[0;34m)\u001b[0m\u001b[0;34m\u001b[0m\u001b[0m\n\u001b[0;32m----> 2\u001b[0;31m \u001b[0mcursor\u001b[0m\u001b[0;34m.\u001b[0m\u001b[0mnext\u001b[0m\u001b[0;34m(\u001b[0m\u001b[0;34m)\u001b[0m\u001b[0;34m\u001b[0m\u001b[0m\n\u001b[0m",
      "\u001b[0;32m/usr/local/lib/python2.7/site-packages/pymongo/command_cursor.pyc\u001b[0m in \u001b[0;36mnext\u001b[0;34m(self)\u001b[0m\n\u001b[1;32m    183\u001b[0m             \u001b[0;32mreturn\u001b[0m \u001b[0mcoll\u001b[0m\u001b[0;34m.\u001b[0m\u001b[0mdatabase\u001b[0m\u001b[0;34m.\u001b[0m\u001b[0m_fix_outgoing\u001b[0m\u001b[0;34m(\u001b[0m\u001b[0mself\u001b[0m\u001b[0;34m.\u001b[0m\u001b[0m__data\u001b[0m\u001b[0;34m.\u001b[0m\u001b[0mpopleft\u001b[0m\u001b[0;34m(\u001b[0m\u001b[0;34m)\u001b[0m\u001b[0;34m,\u001b[0m \u001b[0mcoll\u001b[0m\u001b[0;34m)\u001b[0m\u001b[0;34m\u001b[0m\u001b[0m\n\u001b[1;32m    184\u001b[0m         \u001b[0;32melse\u001b[0m\u001b[0;34m:\u001b[0m\u001b[0;34m\u001b[0m\u001b[0m\n\u001b[0;32m--> 185\u001b[0;31m             \u001b[0;32mraise\u001b[0m \u001b[0mStopIteration\u001b[0m\u001b[0;34m\u001b[0m\u001b[0m\n\u001b[0m\u001b[1;32m    186\u001b[0m \u001b[0;34m\u001b[0m\u001b[0m\n\u001b[1;32m    187\u001b[0m     \u001b[0m__next__\u001b[0m \u001b[0;34m=\u001b[0m \u001b[0mnext\u001b[0m\u001b[0;34m\u001b[0m\u001b[0m\n",
      "\u001b[0;31mStopIteration\u001b[0m: "
     ]
    }
   ],
   "source": [
    "cursor = smarter_profile.aggregate(list_of_3(\"dry_skin_score\",0.1,0,0,0,0,0,0,0))\n",
    "while cursor:\n",
    "    print cursor\n"
   ]
  },
  {
   "cell_type": "code",
   "execution_count": 55,
   "metadata": {
    "collapsed": true
   },
   "outputs": [],
   "source": [
    "#This function return a dictionary including item name, summary of all reviews\n",
    "#for that item and items rating average\n",
    "def reviews_rating_summary(item_list, item_index):\n",
    "    item_info = {\"item_id\": item_list.keys()[item_index],\"name\":item_list.values()[item_index][0]}\n",
    "    item = ads.get_b_product(item_list, item_index)\n",
    "    reviews_sum = ds.summarize(item['Reviews'])\n",
    "    \n",
    "    item_info['reviews_summary'] = reviews_sum['top_n_summary']\n",
    "    \n",
    "    star_rating  = ads.strict_rating(item['rating']['One_star'],\n",
    "                                     item['rating']['Two_star'],\n",
    "                                     item['rating']['Three_star'],\n",
    "                                     item['rating']['Four_star'],\n",
    "                                     item['rating']['Five_star'],\n",
    "                                     3, 100)\n",
    "    len_reviews = sum(item['rating'].values())\n",
    "    \n",
    "    item_info['number_of_reviews'] = len_reviews\n",
    "    item_info['star_rating_ave'] = star_rating\n",
    "    return item_info"
   ]
  },
  {
   "cell_type": "code",
   "execution_count": 56,
   "metadata": {
    "collapsed": false
   },
   "outputs": [
    {
     "data": {
      "text/plain": [
       "{u'item_id': u'B004I9J816',\n",
       " u'name': u'H2O Aquafirm Micro-Collagen Moisturizer Unisex, 1.7 Ounce',\n",
       " u'number_of_reviews': 2,\n",
       " u'reviews_summary': [u'this one seems like it might be a winner.',\n",
       "  u'it absorbed nicely and my skin did look and feel great after using it.',\n",
       "  u\"it did lose one star, though, because of the price- it's a bit steep.i bought it for a collagen moisturizer and immediately found it cleared my breakouts.\",\n",
       "  u'i still use an under eye cream since i am 56 but this cream is miraculous.',\n",
       "  u\"it soaks in so fast you can't believe it and it not greasy or shiny for someone with oily skin.\"],\n",
       " u'star_rating_ave': 3.0294117647058822}"
      ]
     },
     "execution_count": 56,
     "metadata": {},
     "output_type": "execute_result"
    }
   ],
   "source": [
    "reviews_rating_summary(beauty_list, 0)"
   ]
  },
  {
   "cell_type": "code",
   "execution_count": 52,
   "metadata": {
    "collapsed": false
   },
   "outputs": [],
   "source": [
    "#Create a mongo database for the item's review info\n",
    "item_reviews = client.dsbc.item_reviews"
   ]
  },
  {
   "cell_type": "code",
   "execution_count": null,
   "metadata": {
    "collapsed": true
   },
   "outputs": [],
   "source": [
    "cursor = item"
   ]
  },
  {
   "cell_type": "code",
   "execution_count": 49,
   "metadata": {
    "collapsed": false
   },
   "outputs": [
    {
     "name": "stderr",
     "output_type": "stream",
     "text": [
      "/usr/local/lib/python2.7/site-packages/numpy/core/_methods.py:59: RuntimeWarning: Mean of empty slice.\n",
      "  warnings.warn(\"Mean of empty slice.\", RuntimeWarning)\n",
      "/usr/local/lib/python2.7/site-packages/numpy/core/_methods.py:83: RuntimeWarning: Degrees of freedom <= 0 for slice\n",
      "  warnings.warn(\"Degrees of freedom <= 0 for slice\", RuntimeWarning)\n"
     ]
    }
   ],
   "source": [
    "# Put all item_reviews on mongo database:\n",
    "\n",
    "# for item_index in xrange(5570):\n",
    "#     item_review_info = reviews_rating_summary(beauty_list, item_index)\n",
    "#     item_reviews.insert_one(item_review_info)"
   ]
  },
  {
   "cell_type": "code",
   "execution_count": 9,
   "metadata": {
    "collapsed": true
   },
   "outputs": [],
   "source": [
    "def skin_type_counter(list_of_text):\n",
    "    dry_skin = 0\n",
    "    oily_skin = 0\n",
    "    combination_skin = 0\n",
    "    sensitivity = 0\n",
    "    total_reviews = len(list_of_text)\n",
    "    for review_text in list_of_text:\n",
    "        new_text = review_text[0].lower()\n",
    "        dry_skin += new_text.count(\"dry skin\")\n",
    "        oily_skin += new_text.count(\"oily skin\")\n",
    "        combination_skin += new_text.count(\"combination skin\")\n",
    "        sensitivity += new_text.count(\"sensitive\")*tb(new_text).sentiment.polarity\n",
    "    return [dry_skin, oily_skin, combination_skin, sensitivity/(total_reviews+1)]\n",
    "    "
   ]
  },
  {
   "cell_type": "code",
   "execution_count": 11,
   "metadata": {
    "collapsed": false
   },
   "outputs": [],
   "source": [
    "a = get_reviews(beauty_list,42)['Reviews']\n",
    "# for i in a:\n",
    "#     print i\n",
    "#     print skin_type_counter([i])\n",
    "#     print \"\"\n",
    "#     print \"\""
   ]
  },
  {
   "cell_type": "code",
   "execution_count": 15,
   "metadata": {
    "collapsed": false
   },
   "outputs": [],
   "source": [
    "words = []\n",
    "sentences  = nltk.word_tokenize(a[0][0])"
   ]
  },
  {
   "cell_type": "code",
   "execution_count": 28,
   "metadata": {
    "collapsed": false
   },
   "outputs": [],
   "source": [
    "stopwords = nltk.corpus.stopwords.words(\"english\")\\\n",
    "            + ['usps','shipping','$','#', 'very', 'amazon','every',\n",
    "                '&','order','seller','packaging','manufacture', 'ever',\n",
    "                'package','cute','delivery', '.',',',\"return\", \"might\"\n",
    "                '?','...','day','week', 'weeks']\n"
   ]
  },
  {
   "cell_type": "code",
   "execution_count": 29,
   "metadata": {
    "collapsed": false
   },
   "outputs": [],
   "source": [
    "for sentence in sentences:\n",
    "    tokens = nltk.word_tokenize(sentence)\n",
    "    text = [word for word in tokens if word not in stopwords]\n",
    "    tagged_text = nltk.pos_tag(text)\n",
    "    for word, tag in tagged_text:\n",
    "        words.append({\"word\": word, \"pos\": tag})"
   ]
  },
  {
   "cell_type": "code",
   "execution_count": 32,
   "metadata": {
    "collapsed": false
   },
   "outputs": [],
   "source": [
    "from nltk.stem.wordnet import WordNetLemmatizer"
   ]
  },
  {
   "cell_type": "code",
   "execution_count": 41,
   "metadata": {
    "collapsed": false
   },
   "outputs": [],
   "source": [
    "nouns = []\n",
    "lem = WordNetLemmatizer()\n",
    "noun_only = [noun for noun in words if noun[\"pos\"] in [\"NN\", \"NNS\"]]\n",
    "for noun_word in noun_only:\n",
    "    nouns.append(lem.lemmatize(noun_word[\"word\"]))\n",
    "    "
   ]
  },
  {
   "cell_type": "code",
   "execution_count": 44,
   "metadata": {
    "collapsed": false
   },
   "outputs": [],
   "source": [
    "import logging\n",
    "import gensim\n",
    "from gensim import corpora\n",
    "from gensim.corpora import BleiCorpus"
   ]
  }
 ],
 "metadata": {
  "kernelspec": {
   "display_name": "Python 2",
   "language": "python",
   "name": "python2"
  },
  "language_info": {
   "codemirror_mode": {
    "name": "ipython",
    "version": 2
   },
   "file_extension": ".py",
   "mimetype": "text/x-python",
   "name": "python",
   "nbconvert_exporter": "python",
   "pygments_lexer": "ipython2",
   "version": "2.7.10"
  }
 },
 "nbformat": 4,
 "nbformat_minor": 0
}
