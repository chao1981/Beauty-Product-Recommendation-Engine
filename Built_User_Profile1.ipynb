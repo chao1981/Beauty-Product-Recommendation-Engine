{
 "cells": [
  {
   "cell_type": "code",
   "execution_count": 1,
   "metadata": {
    "collapsed": true
   },
   "outputs": [],
   "source": [
    "import pymongo\n",
    "from pymongo import MongoClient\n",
    "import matplotlib.pyplot as plt\n",
    "%matplotlib inline\n",
    "import numpy as np\n",
    "import seaborn as sns\n",
    "from bson.son import SON\n",
    "from bson.code import Code\n",
    "import json\n",
    "import pandas as pd\n",
    "import re\n",
    "import os\n",
    "import codecs\n",
    "from sklearn import feature_extraction\n",
    "import mpld3\n",
    "# These are packages need for natural language processing:\n",
    "import nltk\n",
    "from __future__ import division, unicode_literals \n",
    "from textblob import TextBlob as tb\n",
    "import math\n",
    "from datetime import datetime\n",
    "from dateutil import parser"
   ]
  },
  {
   "cell_type": "code",
   "execution_count": 2,
   "metadata": {
    "collapsed": false
   },
   "outputs": [],
   "source": [
    "import matplotlib.pyplot as plt\n",
    "from wordcloud import WordCloud, STOPWORDS\n",
    "import amazon_data_sort \n",
    "from amazon_data_sort import get_b_product, get_reviews\n",
    "import doc_summarization as ds"
   ]
  },
  {
   "cell_type": "code",
   "execution_count": 3,
   "metadata": {
    "collapsed": false
   },
   "outputs": [],
   "source": [
    "# #For Topic Modelling LDA:\n",
    "# import lda\n",
    "# #import scipy\n",
    "# import gensim\n",
    "\n",
    "# # from gensim import corpora, models, similarities\n",
    "# # from gensim.models import hdpmodel, ldamodel\n",
    "# # from itertools import izip"
   ]
  },
  {
   "cell_type": "code",
   "execution_count": 3,
   "metadata": {
    "collapsed": false
   },
   "outputs": [],
   "source": [
    "import reviews as r\n",
    "import product_user_profile as pup\n",
    "import doc_summarization as ds\n",
    "import amazon_data_sort as ads"
   ]
  },
  {
   "cell_type": "code",
   "execution_count": 4,
   "metadata": {
    "collapsed": false
   },
   "outputs": [],
   "source": [
    "client = MongoClient()\n",
    "mbf = client.dsbc.mbf\n",
    "product_info = client.dsbc.product_info\n",
    "name = product_info.find({}, {\"_id\":0,\"asin\":1,\"title\":1,\"price\":1})\n",
    "beauty_list  = {}\n",
    "for id_num in name:\n",
    "    try:\n",
    "        beauty_list[id_num[\"asin\"]]=[id_num[\"title\"],id_num[\"price\"]]\n",
    "    except:\n",
    "        pass\n",
    "#Creating database for reviews beauty file\n",
    "rbf = client.dsbc.rbf"
   ]
  },
  {
   "cell_type": "code",
   "execution_count": 6,
   "metadata": {
    "collapsed": false
   },
   "outputs": [
    {
     "name": "stdout",
     "output_type": "stream",
     "text": [
      "As much as any of us hate to admit, how well we age is determined predominately by genetics plus exercise, good nutrition, hydration, sunscreen and regular skin care.\n",
      "\n",
      "\n",
      "I will tell you, using this and staying out of the sun have protected my facial skin so much that, at age 56, I still have no wrinkles unless I smile really hard and you look up close.\n",
      "\n",
      "\n",
      "\"If you use this cream every day and stay out of the sun faithfully and/or use sunscreen, you will have beautiful skin long after your friends have started to get very noticeable lines.Regards,Karen\n",
      "\n",
      "\n",
      "One of the few I've tried that doesn't smell like it contains sunscreen.\n",
      "\n",
      "\n",
      "It's tint-free, which I also like.I use it primarily on my face and lower arms where the sun hits.\n",
      "\n",
      "\n"
     ]
    }
   ],
   "source": [
    "#These codes help find all sentence with the word of interests\n",
    "#It's help full to see the exact condition surrounding the word\n",
    "#to built all the terms for a category\n",
    "from nltk import tokenize\n",
    "for index in xrange(10):\n",
    "    a = r.reviews(beauty_list,index)['Reviews']\n",
    "    for i in a:\n",
    "        sentences  = tokenize.sent_tokenize(i[0])\n",
    "        for sentence in sentences:\n",
    "            if \"sun\" in sentence:\n",
    "                print sentence\n",
    "                print \"\"\n",
    "                print \"\""
   ]
  },
  {
   "cell_type": "code",
   "execution_count": 24,
   "metadata": {
    "collapsed": false
   },
   "outputs": [
    {
     "name": "stdout",
     "output_type": "stream",
     "text": [
      "{'dry_skin_score': 0.0, 'oily_skin_score': 0.0, u'name': u'DCL Daily Moisture SPF 15 3.5 oz', 'sunscreen_score': 0.0196078431372549, 'sensitive_score': 0.0, u'price': 32.53, 'combination_skin_score': 0.0, u'item_id': u'B000IOQ84U', 'redness_score': 0.0, 'anti_aging_score': 0.0, 'acne_score': 0.0}\n",
      "[u\"Love this moisturizer.  One of the few I've tried that doesn't smell like it contains sunscreen.  It's tint-free, which I also like.I use it primarily on my face and lower arms where the sun hits.  A single tube lasts quite awhile.\", 5.0]\n"
     ]
    },
    {
     "data": {
      "text/plain": [
       "{'acne_score': 0.0,\n",
       " 'anti_aging_score': 0.0,\n",
       " 'combination_skin_score': 0.0,\n",
       " 'dry_skin_score': 0.0,\n",
       " 'oily_skin_score': 0.0,\n",
       " 'redness_score': 0.0,\n",
       " 'sensitive_score': 0.0,\n",
       " 'sunscreen_score': 0.0196078431372549}"
      ]
     },
     "execution_count": 24,
     "metadata": {},
     "output_type": "execute_result"
    }
   ],
   "source": [
    "print summarize_item(beauty_list,9)\n",
    "i=9\n",
    "print r.reviews(beauty_list,i)['Reviews'][0]\n",
    "pup.product_profiler(r.reviews(beauty_list,i))"
   ]
  },
  {
   "cell_type": "markdown",
   "metadata": {},
   "source": [
    "###Now transfer everything onto MongoDB"
   ]
  },
  {
   "cell_type": "code",
   "execution_count": 17,
   "metadata": {
    "collapsed": true
   },
   "outputs": [],
   "source": [
    "item_profile = client.dsbc.item_profile"
   ]
  },
  {
   "cell_type": "code",
   "execution_count": 21,
   "metadata": {
    "collapsed": false
   },
   "outputs": [],
   "source": [
    "def summarize_item(item_list,item_index):\n",
    "    all_item_info = {}\n",
    "    all_item_info = {\"item_id\": item_list.keys()[item_index],\"name\":item_list.values()[item_index][0],\n",
    "                     \"price\":item_list.values()[item_index][1]}\n",
    "    all_item_score = pup.product_profiler(r.reviews(item_list,item_index))\n",
    "    all_item_info.update(all_item_score)\n",
    "    return all_item_info"
   ]
  },
  {
   "cell_type": "code",
   "execution_count": 33,
   "metadata": {
    "collapsed": false
   },
   "outputs": [
    {
     "data": {
      "text/plain": [
       "{'acne_score': 0.0,\n",
       " 'anti_aging_score': 0.0,\n",
       " 'combination_skin_score': 0.0,\n",
       " 'dry_skin_score': 0.0,\n",
       " u'item_id': u'B00BJEJY9E',\n",
       " u'name': u'SK II Men UV Protect Moisturizer SPF 30 PA +++ New 50g / 1.7oz',\n",
       " 'oily_skin_score': 0.0,\n",
       " u'price': 98.11,\n",
       " 'redness_score': 0.0,\n",
       " 'sensitive_score': 0.0,\n",
       " 'sunscreen_score': 0.0}"
      ]
     },
     "execution_count": 33,
     "metadata": {},
     "output_type": "execute_result"
    }
   ],
   "source": [
    "summarize_item(beauty_list, 5)"
   ]
  },
  {
   "cell_type": "code",
   "execution_count": 21,
   "metadata": {
    "collapsed": false
   },
   "outputs": [],
   "source": [
    "# These code is to save all item information \n",
    "# into mongodb called item_profile\n",
    "\n",
    "# for i in xrange(5570):\n",
    "#     beauty_item = summarize_item(beauty_list, i)\n",
    "#     item_profile.insert_one(beauty_item)"
   ]
  },
  {
   "cell_type": "code",
   "execution_count": 15,
   "metadata": {
    "collapsed": false
   },
   "outputs": [],
   "source": [
    "# sp = client.dsbc.smarter_profile\n",
    "# for i in xrange(5570):\n",
    "#      beauty_item = summarize_item(beauty_list, i)\n",
    "#      sp.insert_one(beauty_item)"
   ]
  },
  {
   "cell_type": "code",
   "execution_count": 103,
   "metadata": {
    "collapsed": false
   },
   "outputs": [
    {
     "data": {
      "text/plain": [
       "[{u'_id': ObjectId('558332463cae551ac7dfcab5'),\n",
       "  u'acne_score': 0.25812619502868067,\n",
       "  u'anti_aging_score': 0.04780114722753346,\n",
       "  u'combination_skin_score': 0.02676864244741874,\n",
       "  u'dry_skin_score': 0.3652007648183556,\n",
       "  u'item_id': u'B000YJ2SLG',\n",
       "  u'name': u'CeraVe Moisturizing Lotion, 12-Ounce Bottle',\n",
       "  u'oily_skin_score': 0.040152963671128104,\n",
       "  u'price': 12.78,\n",
       "  u'redness_score': 34.0,\n",
       "  u'sensitive_score': 0.26577437858508607,\n",
       "  u'sunscreen_score': 0.022944550669216062}]"
      ]
     },
     "execution_count": 103,
     "metadata": {},
     "output_type": "execute_result"
    }
   ],
   "source": [
    "x = smarter_profile.find({\"dry_skin_score\": {\"$gt\": 0.04}, \"oily_skin_score\":{\"$gt\":0.01}})\n",
    "list_b = []\n",
    "for i in xrange(1):\n",
    "    list_b.append(x.sort(\"dry_skin_score\", pymongo.DESCENDING)[i])\n",
    "\n",
    "list_b"
   ]
  },
  {
   "cell_type": "code",
   "execution_count": 30,
   "metadata": {
    "collapsed": false
   },
   "outputs": [],
   "source": [
    "def list_of_15(priority,concern_list):\n",
    "    dd ={\"dry_skin_score\":-0.1,\"oily_skin_score\":-0.1, \n",
    "         \"sensitive_score\":-0.1,\"sunscreen_score\":-0.1,\n",
    "         \"combination_skin_score\":-0.1,\"redness_score\":-0.1,\n",
    "         \"anti_aging_score\":-0.1,\"acne_score\":-0.1}\n",
    "\n",
    "# concern_list = [\"dry_skin_score\", \"acne_score\"]\n",
    "    for concern in concern_list:\n",
    "        dd[concern]=0.0\n",
    "    \n",
    "    sp = MongoClient().dsbc.smarter_profile\n",
    "    x = sp.find({\"dry_skin_score\":{\"$gt\":dd[\"dry_skin_score\"]}, \"oily_skin_score\":{\"$gt\":dd[\"oily_skin_score\"]},\n",
    "                 \"sensitive_score\":{\"$gt\":dd[\"sensitive_score\"]},\"sunscreen_score\":{\"$gt\":dd[\"sunscreen_score\"]},\n",
    "                 \"combination_skin_score\":{\"$gt\":dd[\"combination_skin_score\"]}, \"redness_score\":{\"$gt\":dd[\"redness_score\"]},\n",
    "                 \"anti_aging_score\":{\"$gt\":dd[\"anti_aging_score\"]},\"acne_score\":{\"$gt\":dd[\"acne_score\"]}})\n",
    "    number_of_items = min(15,x.count())\n",
    "    list_of_items = []\n",
    "    for i in xrange(number_of_items):\n",
    "        list_of_items.append(x.sort(priority,pymongo.DESCENDING)[i])\n",
    "    \n",
    "    return list_of_items       "
   ]
  },
  {
   "cell_type": "code",
   "execution_count": 29,
   "metadata": {
    "collapsed": false
   },
   "outputs": [
    {
     "name": "stdout",
     "output_type": "stream",
     "text": [
      "{u'dry_skin_score': 0.07368421052631578, u'oily_skin_score': 0.03684210526315789, u'name': u'Alba BotanicaTM Even Advanced Natural Moisturizer Sea Moss SPF 15 -- 2 fl oz', u'sunscreen_score': 0.08421052631578947, u'sensitive_score': 0.08421052631578947, u'price': 5.89, u'combination_skin_score': 0.0, u'item_id': u'B00005REAQ', u'_id': ObjectId('55887123e0a3ba27352051ab'), u'redness_score': 0.005263157894736842, u'anti_aging_score': 0.0, u'acne_score': 0.08421052631578947}\n"
     ]
    }
   ],
   "source": [
    "x = sp.find({\"dry_skin_score\":{\"$gt\":0.0}, \"oily_skin_score\":{\"$gt\":-0.1},\n",
    "                 \"sensitive_score\":{\"$gt\":0.0},\"sunscreen_score\":{\"$gt\":-0.1},\n",
    "                 \"combination_skin_score\":{\"$gt\":-0.1}, \"redness_score\":{\"$gt\":-0.1},\n",
    "                 \"anti_aging_score\":{\"$gt\":-0.1},\"acne_score\":{\"$gt\":-0.1}})\n",
    "print x[1]"
   ]
  },
  {
   "cell_type": "code",
   "execution_count": 102,
   "metadata": {
    "collapsed": false
   },
   "outputs": [
    {
     "name": "stdout",
     "output_type": "stream",
     "text": [
      "{u'dry_skin_score': 0.0, u'oily_skin_score': 0.0, u'combination_skin_score': -0.1, u'sunscreen_score': -0.1, u'sensitive_score': -0.1, u'redness_score': -0.1, u'anti_aging_score': -0.1, u'acne_score': -0.1}\n"
     ]
    },
    {
     "data": {
      "text/plain": [
       "[]"
      ]
     },
     "execution_count": 102,
     "metadata": {},
     "output_type": "execute_result"
    }
   ],
   "source": [
    "list_of_3(\"dry_skin_score\",[\"dry_skin_score\",\"oily_skin_score\"])"
   ]
  },
  {
   "cell_type": "code",
   "execution_count": 30,
   "metadata": {
    "collapsed": false
   },
   "outputs": [
    {
     "name": "stdout",
     "output_type": "stream",
     "text": [
      "{u'dry_skin_score': 0.3620689655172414, u'oily_skin_score': 0.08045977011494253, u'name': u\"POND'S Dry Skin Cream, 10.1-oz. (Pack of 3)\", u'sunscreen_score': 0.0, u'sensitive_score': 0.06321839080459771, u'price': 17.03, u'combination_skin_score': 0.034482758620689655, u'item_id': u'B001ECQ4R6', u'_id': ObjectId('5588693ce0a3ba273520483a'), u'redness_score': 0.04597701149425287, u'anti_aging_score': 0.11494252873563218, u'acne_score': 0.1724137931034483}\n"
     ]
    }
   ],
   "source": [
    "x = sp.find({\"dry_skin_score\": {\"$gt\": 0.04}, \"oily_skin_score\":{\"$gt\":0.01}})\n",
    "print x.sort(\"dry_skin_score\", pymongo.DESCENDING)[1]\n",
    "   "
   ]
  },
  {
   "cell_type": "markdown",
   "metadata": {},
   "source": [
    "###Putting reviews for product onto Mongo database"
   ]
  },
  {
   "cell_type": "code",
   "execution_count": 36,
   "metadata": {
    "collapsed": true
   },
   "outputs": [],
   "source": [
    "#This function return a dictionary including item name, summary of all reviews\n",
    "#for that item and items rating average\n",
    "def reviews_rating_summary(item_list, item_index):\n",
    "    item_info = {\"item_id\": item_list.keys()[item_index],\"name\":item_list.values()[item_index][0]}\n",
    "    item = ads.get_b_product(item_list, item_index)\n",
    "    reviews_sum = ds.summarize(item['Reviews'])\n",
    "    \n",
    "    item_info['reviews_summary'] = reviews_sum['top_n_summary']\n",
    "    \n",
    "    star_rating  = ads.strict_rating(item['rating']['One_star'],\n",
    "                                     item['rating']['Two_star'],\n",
    "                                     item['rating']['Three_star'],\n",
    "                                     item['rating']['Four_star'],\n",
    "                                     item['rating']['Five_star'],\n",
    "                                     3, 100)\n",
    "    len_reviews = sum(item['rating'].values())\n",
    "    \n",
    "    item_info['number_of_reviews'] = len_reviews\n",
    "    item_info['star_rating_ave'] = star_rating\n",
    "    return item_info"
   ]
  },
  {
   "cell_type": "code",
   "execution_count": 56,
   "metadata": {
    "collapsed": false
   },
   "outputs": [
    {
     "data": {
      "text/plain": [
       "{u'item_id': u'B004I9J816',\n",
       " u'name': u'H2O Aquafirm Micro-Collagen Moisturizer Unisex, 1.7 Ounce',\n",
       " u'number_of_reviews': 2,\n",
       " u'reviews_summary': [u'this one seems like it might be a winner.',\n",
       "  u'it absorbed nicely and my skin did look and feel great after using it.',\n",
       "  u\"it did lose one star, though, because of the price- it's a bit steep.i bought it for a collagen moisturizer and immediately found it cleared my breakouts.\",\n",
       "  u'i still use an under eye cream since i am 56 but this cream is miraculous.',\n",
       "  u\"it soaks in so fast you can't believe it and it not greasy or shiny for someone with oily skin.\"],\n",
       " u'star_rating_ave': 3.0294117647058822}"
      ]
     },
     "execution_count": 56,
     "metadata": {},
     "output_type": "execute_result"
    }
   ],
   "source": [
    "reviews_rating_summary(beauty_list, 0)"
   ]
  },
  {
   "cell_type": "code",
   "execution_count": 32,
   "metadata": {
    "collapsed": false
   },
   "outputs": [
    {
     "data": {
      "text/plain": [
       "[u'B000YJ2SLG',\n",
       " u'B001ECQ4R6',\n",
       " u'B004WC2H8A',\n",
       " u'B000BZB1FC',\n",
       " u'B0028N0NR2',\n",
       " u'B000PKWAWQ',\n",
       " u'B000WNLFBI',\n",
       " u'B00KCTER3U',\n",
       " u'B004OFYMW4',\n",
       " u'B000FQUGXA',\n",
       " u'B000VFUS0Q',\n",
       " u'B00ALB397Y',\n",
       " u'B00CM2AQE4',\n",
       " u'B00IT69F62',\n",
       " u'B00365DABC']"
      ]
     },
     "execution_count": 32,
     "metadata": {},
     "output_type": "execute_result"
    }
   ],
   "source": [
    "item_id_list  = [i['item_id'] for i in list_of_15(\"dry_skin_score\",[\"dry_skin_score\", \"oily_skin_score\",\"acne_score\"])]\n",
    "\n",
    "item_id_list"
   ]
  },
  {
   "cell_type": "code",
   "execution_count": 33,
   "metadata": {
    "collapsed": false
   },
   "outputs": [],
   "source": [
    "#Create a mongo database for the item's review info\n",
    "item_reviews = client.dsbc.item_reviews"
   ]
  },
  {
   "cell_type": "code",
   "execution_count": 38,
   "metadata": {
    "collapsed": false
   },
   "outputs": [
    {
     "data": {
      "text/plain": [
       "{u'item_id': u'B00C82YMWK',\n",
       " u'name': u'Beauty Renew 60+ Exclusive Day &amp; Night Cream for Mature Skin',\n",
       " u'number_of_reviews': 1,\n",
       " u'reviews_summary': [u'i am  65 and really like this cream.',\n",
       "  u'it has been hard to find something that i feel really improves my skin without being greasy.',\n",
       "  u'this is great under makeup and at bed time .',\n",
       "  u'i was pleasantly surprised.',\n",
       "  u'great price for product compared to other products that i paid much much for without good results.'],\n",
       " u'star_rating_ave': 3.01980198019802}"
      ]
     },
     "execution_count": 38,
     "metadata": {},
     "output_type": "execute_result"
    }
   ],
   "source": [
    "reviews_rating_summary(beauty_list, 1)"
   ]
  },
  {
   "cell_type": "code",
   "execution_count": 40,
   "metadata": {
    "collapsed": true
   },
   "outputs": [],
   "source": [
    "### Put all item_reviews on mongo database:\n",
    "\n",
    "# for item_index in xrange(5570):\n",
    "#      item_review_info = reviews_rating_summary(beauty_list, item_index)\n",
    "#      item_reviews.insert_one(item_review_info)"
   ]
  },
  {
   "cell_type": "markdown",
   "metadata": {},
   "source": [
    "###Put user sentiment for each items onto Mongo database:"
   ]
  },
  {
   "cell_type": "code",
   "execution_count": 46,
   "metadata": {
    "collapsed": true
   },
   "outputs": [],
   "source": [
    "import item_sentiment as i_sent"
   ]
  },
  {
   "cell_type": "code",
   "execution_count": 51,
   "metadata": {
    "collapsed": true
   },
   "outputs": [],
   "source": [
    "item_sent = MongoClient().dsbc.item_sent\n",
    "# for key in beauty_list.keys():\n",
    "#     sentiment_dict = {\"item_id\":key}\n",
    "#     sentiment_dict[\"sentiment\"] = i_sent.get_item_sentiment(key)\n",
    "#     item_sent.insert_one(sentiment_dict)# "
   ]
  },
  {
   "cell_type": "code",
   "execution_count": 49,
   "metadata": {
    "collapsed": false
   },
   "outputs": [
    {
     "name": "stdout",
     "output_type": "stream",
     "text": [
      "{u'item_id': u'B004I9J816', u'sentiment': [[datetime.datetime(2014, 4, 9, 0, 0), datetime.datetime(2013, 1, 1, 0, 0)], [0.3722222222222222, 0.2]]}\n",
      "{u'item_id': u'B00C82YMWK', u'sentiment': [[datetime.datetime(2014, 7, 9, 0, 0)], [0.28703703703703703]]}\n"
     ]
    }
   ],
   "source": [
    "a = beauty_list.keys()[:2]\n",
    "for k_a in a:\n",
    "    sent = {\"item_id\":k_a}\n",
    "    sent[\"sentiment\"]=i_sent.get_item_sentiment(k_a)\n",
    "    print sent"
   ]
  },
  {
   "cell_type": "code",
   "execution_count": 52,
   "metadata": {
    "collapsed": false
   },
   "outputs": [
    {
     "data": {
      "text/plain": [
       "5570"
      ]
     },
     "execution_count": 52,
     "metadata": {},
     "output_type": "execute_result"
    }
   ],
   "source": []
  },
  {
   "cell_type": "code",
   "execution_count": null,
   "metadata": {
    "collapsed": true
   },
   "outputs": [],
   "source": []
  },
  {
   "cell_type": "code",
   "execution_count": null,
   "metadata": {
    "collapsed": true
   },
   "outputs": [],
   "source": []
  },
  {
   "cell_type": "code",
   "execution_count": null,
   "metadata": {
    "collapsed": true
   },
   "outputs": [],
   "source": []
  },
  {
   "cell_type": "code",
   "execution_count": 9,
   "metadata": {
    "collapsed": true
   },
   "outputs": [],
   "source": [
    "def skin_type_counter(list_of_text):\n",
    "    dry_skin = 0\n",
    "    oily_skin = 0\n",
    "    combination_skin = 0\n",
    "    sensitivity = 0\n",
    "    total_reviews = len(list_of_text)\n",
    "    for review_text in list_of_text:\n",
    "        new_text = review_text[0].lower()\n",
    "        dry_skin += new_text.count(\"dry skin\")\n",
    "        oily_skin += new_text.count(\"oily skin\")\n",
    "        combination_skin += new_text.count(\"combination skin\")\n",
    "        sensitivity += new_text.count(\"sensitive\")*tb(new_text).sentiment.polarity\n",
    "    return [dry_skin, oily_skin, combination_skin, sensitivity/(total_reviews+1)]\n",
    "    "
   ]
  },
  {
   "cell_type": "code",
   "execution_count": 11,
   "metadata": {
    "collapsed": false
   },
   "outputs": [],
   "source": [
    "a = get_reviews(beauty_list,42)['Reviews']\n",
    "# for i in a:\n",
    "#     print i\n",
    "#     print skin_type_counter([i])\n",
    "#     print \"\"\n",
    "#     print \"\""
   ]
  },
  {
   "cell_type": "code",
   "execution_count": 15,
   "metadata": {
    "collapsed": false
   },
   "outputs": [],
   "source": [
    "words = []\n",
    "sentences  = nltk.word_tokenize(a[0][0])"
   ]
  },
  {
   "cell_type": "code",
   "execution_count": 28,
   "metadata": {
    "collapsed": false
   },
   "outputs": [],
   "source": [
    "stopwords = nltk.corpus.stopwords.words(\"english\")\\\n",
    "            + ['usps','shipping','$','#', 'very', 'amazon','every',\n",
    "                '&','order','seller','packaging','manufacture', 'ever',\n",
    "                'package','cute','delivery', '.',',',\"return\", \"might\"\n",
    "                '?','...','day','week', 'weeks']\n"
   ]
  },
  {
   "cell_type": "code",
   "execution_count": 29,
   "metadata": {
    "collapsed": false
   },
   "outputs": [],
   "source": [
    "for sentence in sentences:\n",
    "    tokens = nltk.word_tokenize(sentence)\n",
    "    text = [word for word in tokens if word not in stopwords]\n",
    "    tagged_text = nltk.pos_tag(text)\n",
    "    for word, tag in tagged_text:\n",
    "        words.append({\"word\": word, \"pos\": tag})"
   ]
  },
  {
   "cell_type": "code",
   "execution_count": 32,
   "metadata": {
    "collapsed": false
   },
   "outputs": [],
   "source": [
    "from nltk.stem.wordnet import WordNetLemmatizer"
   ]
  },
  {
   "cell_type": "code",
   "execution_count": 41,
   "metadata": {
    "collapsed": false
   },
   "outputs": [],
   "source": [
    "nouns = []\n",
    "lem = WordNetLemmatizer()\n",
    "noun_only = [noun for noun in words if noun[\"pos\"] in [\"NN\", \"NNS\"]]\n",
    "for noun_word in noun_only:\n",
    "    nouns.append(lem.lemmatize(noun_word[\"word\"]))\n",
    "    "
   ]
  },
  {
   "cell_type": "code",
   "execution_count": 44,
   "metadata": {
    "collapsed": false
   },
   "outputs": [],
   "source": [
    "import logging\n",
    "import gensim\n",
    "from gensim import corpora\n",
    "from gensim.corpora import BleiCorpus"
   ]
  },
  {
   "cell_type": "code",
   "execution_count": 18,
   "metadata": {
    "collapsed": false
   },
   "outputs": [],
   "source": [
    "a = [1]+[2]+[2,3]"
   ]
  },
  {
   "cell_type": "code",
   "execution_count": 20,
   "metadata": {
    "collapsed": false
   },
   "outputs": [
    {
     "data": {
      "text/plain": [
       "[1, 2, 3]"
      ]
     },
     "execution_count": 20,
     "metadata": {},
     "output_type": "execute_result"
    }
   ],
   "source": [
    "list(set(a))"
   ]
  },
  {
   "cell_type": "code",
   "execution_count": null,
   "metadata": {
    "collapsed": true
   },
   "outputs": [],
   "source": []
  }
 ],
 "metadata": {
  "kernelspec": {
   "display_name": "Python 2",
   "language": "python",
   "name": "python2"
  },
  "language_info": {
   "codemirror_mode": {
    "name": "ipython",
    "version": 2
   },
   "file_extension": ".py",
   "mimetype": "text/x-python",
   "name": "python",
   "nbconvert_exporter": "python",
   "pygments_lexer": "ipython2",
   "version": "2.7.10"
  }
 },
 "nbformat": 4,
 "nbformat_minor": 0
}
